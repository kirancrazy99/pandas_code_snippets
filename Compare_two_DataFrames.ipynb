{
 "cells": [
  {
   "cell_type": "markdown",
   "metadata": {},
   "source": [
    "# Methods to comparing two DataFrames and find out differences"
   ]
  },
  {
   "cell_type": "code",
   "execution_count": 1,
   "metadata": {
    "ExecuteTime": {
     "end_time": "2020-08-28T08:20:46.865521Z",
     "start_time": "2020-08-28T08:20:46.223920Z"
    }
   },
   "outputs": [],
   "source": [
    "import pandas as pd\n",
    "import numpy as np\n",
    "from IPython.core.interactiveshell import InteractiveShell\n",
    "InteractiveShell.ast_node_interactivity='all'"
   ]
  },
  {
   "cell_type": "code",
   "execution_count": 2,
   "metadata": {
    "ExecuteTime": {
     "end_time": "2020-08-28T08:20:46.911493Z",
     "start_time": "2020-08-28T08:20:46.869517Z"
    }
   },
   "outputs": [
    {
     "data": {
      "text/html": [
       "<div>\n",
       "<style scoped>\n",
       "    .dataframe tbody tr th:only-of-type {\n",
       "        vertical-align: middle;\n",
       "    }\n",
       "\n",
       "    .dataframe tbody tr th {\n",
       "        vertical-align: top;\n",
       "    }\n",
       "\n",
       "    .dataframe thead th {\n",
       "        text-align: right;\n",
       "    }\n",
       "</style>\n",
       "<table border=\"1\" class=\"dataframe\">\n",
       "  <thead>\n",
       "    <tr style=\"text-align: right;\">\n",
       "      <th></th>\n",
       "      <th>Mon</th>\n",
       "      <th>Tue</th>\n",
       "      <th>Wed</th>\n",
       "      <th>Thu</th>\n",
       "      <th>Fri</th>\n",
       "    </tr>\n",
       "  </thead>\n",
       "  <tbody>\n",
       "    <tr>\n",
       "      <th>Steven</th>\n",
       "      <td>34</td>\n",
       "      <td>27</td>\n",
       "      <td>15</td>\n",
       "      <td>23</td>\n",
       "      <td>33</td>\n",
       "    </tr>\n",
       "    <tr>\n",
       "      <th>Mike</th>\n",
       "      <td>45</td>\n",
       "      <td>9</td>\n",
       "      <td>74</td>\n",
       "      <td>87</td>\n",
       "      <td>12</td>\n",
       "    </tr>\n",
       "    <tr>\n",
       "      <th>Andy</th>\n",
       "      <td>17</td>\n",
       "      <td>33</td>\n",
       "      <td>54</td>\n",
       "      <td>8</td>\n",
       "      <td>29</td>\n",
       "    </tr>\n",
       "    <tr>\n",
       "      <th>Paul</th>\n",
       "      <td>87</td>\n",
       "      <td>67</td>\n",
       "      <td>27</td>\n",
       "      <td>45</td>\n",
       "      <td>7</td>\n",
       "    </tr>\n",
       "  </tbody>\n",
       "</table>\n",
       "</div>"
      ],
      "text/plain": [
       "        Mon  Tue  Wed  Thu  Fri\n",
       "Steven   34   27   15   23   33\n",
       "Mike     45    9   74   87   12\n",
       "Andy     17   33   54    8   29\n",
       "Paul     87   67   27   45    7"
      ]
     },
     "execution_count": 2,
     "metadata": {},
     "output_type": "execute_result"
    }
   ],
   "source": [
    "#Create data frame with sample data\n",
    "\n",
    "Mon=[34,45,17,87]\n",
    "Tue=[27,9,33,67]\n",
    "Wed=[15,74,54,27]\n",
    "Thu=[23,87,8,45]\n",
    "Fri=[33,12,29,7]\n",
    "index_col=['Steven','Mike','Andy','Paul']\n",
    "\n",
    "sales=pd.DataFrame({'Mon':Mon,'Tue':Tue,'Wed':Wed,'Thu':Thu,'Fri':Fri},index=index_col)\n",
    "sales"
   ]
  },
  {
   "cell_type": "code",
   "execution_count": 3,
   "metadata": {
    "ExecuteTime": {
     "end_time": "2020-08-28T08:20:47.024423Z",
     "start_time": "2020-08-28T08:20:46.916490Z"
    }
   },
   "outputs": [],
   "source": [
    "#create a copy of another dataframe\n",
    "sales1=sales.copy()"
   ]
  },
  {
   "cell_type": "code",
   "execution_count": 4,
   "metadata": {
    "ExecuteTime": {
     "end_time": "2020-08-28T08:20:47.158960Z",
     "start_time": "2020-08-28T08:20:47.032419Z"
    }
   },
   "outputs": [],
   "source": [
    "#update values in sales1\n",
    "sales1.iloc[0,1]=100\n",
    "sales1.iloc[3,2]=100"
   ]
  },
  {
   "cell_type": "code",
   "execution_count": 5,
   "metadata": {
    "ExecuteTime": {
     "end_time": "2020-08-28T08:20:47.309096Z",
     "start_time": "2020-08-28T08:20:47.162958Z"
    }
   },
   "outputs": [
    {
     "data": {
      "text/html": [
       "<div>\n",
       "<style scoped>\n",
       "    .dataframe tbody tr th:only-of-type {\n",
       "        vertical-align: middle;\n",
       "    }\n",
       "\n",
       "    .dataframe tbody tr th {\n",
       "        vertical-align: top;\n",
       "    }\n",
       "\n",
       "    .dataframe thead th {\n",
       "        text-align: right;\n",
       "    }\n",
       "</style>\n",
       "<table border=\"1\" class=\"dataframe\">\n",
       "  <thead>\n",
       "    <tr style=\"text-align: right;\">\n",
       "      <th></th>\n",
       "      <th>Mon</th>\n",
       "      <th>Tue</th>\n",
       "      <th>Wed</th>\n",
       "      <th>Thu</th>\n",
       "      <th>Fri</th>\n",
       "    </tr>\n",
       "  </thead>\n",
       "  <tbody>\n",
       "    <tr>\n",
       "      <th>Steven</th>\n",
       "      <td>34</td>\n",
       "      <td>27</td>\n",
       "      <td>15</td>\n",
       "      <td>23</td>\n",
       "      <td>33</td>\n",
       "    </tr>\n",
       "    <tr>\n",
       "      <th>Mike</th>\n",
       "      <td>45</td>\n",
       "      <td>9</td>\n",
       "      <td>74</td>\n",
       "      <td>87</td>\n",
       "      <td>12</td>\n",
       "    </tr>\n",
       "    <tr>\n",
       "      <th>Andy</th>\n",
       "      <td>17</td>\n",
       "      <td>33</td>\n",
       "      <td>54</td>\n",
       "      <td>8</td>\n",
       "      <td>29</td>\n",
       "    </tr>\n",
       "    <tr>\n",
       "      <th>Paul</th>\n",
       "      <td>87</td>\n",
       "      <td>67</td>\n",
       "      <td>27</td>\n",
       "      <td>45</td>\n",
       "      <td>7</td>\n",
       "    </tr>\n",
       "  </tbody>\n",
       "</table>\n",
       "</div>"
      ],
      "text/plain": [
       "        Mon  Tue  Wed  Thu  Fri\n",
       "Steven   34   27   15   23   33\n",
       "Mike     45    9   74   87   12\n",
       "Andy     17   33   54    8   29\n",
       "Paul     87   67   27   45    7"
      ]
     },
     "execution_count": 5,
     "metadata": {},
     "output_type": "execute_result"
    },
    {
     "data": {
      "text/html": [
       "<div>\n",
       "<style scoped>\n",
       "    .dataframe tbody tr th:only-of-type {\n",
       "        vertical-align: middle;\n",
       "    }\n",
       "\n",
       "    .dataframe tbody tr th {\n",
       "        vertical-align: top;\n",
       "    }\n",
       "\n",
       "    .dataframe thead th {\n",
       "        text-align: right;\n",
       "    }\n",
       "</style>\n",
       "<table border=\"1\" class=\"dataframe\">\n",
       "  <thead>\n",
       "    <tr style=\"text-align: right;\">\n",
       "      <th></th>\n",
       "      <th>Mon</th>\n",
       "      <th>Tue</th>\n",
       "      <th>Wed</th>\n",
       "      <th>Thu</th>\n",
       "      <th>Fri</th>\n",
       "    </tr>\n",
       "  </thead>\n",
       "  <tbody>\n",
       "    <tr>\n",
       "      <th>Steven</th>\n",
       "      <td>34</td>\n",
       "      <td>100</td>\n",
       "      <td>15</td>\n",
       "      <td>23</td>\n",
       "      <td>33</td>\n",
       "    </tr>\n",
       "    <tr>\n",
       "      <th>Mike</th>\n",
       "      <td>45</td>\n",
       "      <td>9</td>\n",
       "      <td>74</td>\n",
       "      <td>87</td>\n",
       "      <td>12</td>\n",
       "    </tr>\n",
       "    <tr>\n",
       "      <th>Andy</th>\n",
       "      <td>17</td>\n",
       "      <td>33</td>\n",
       "      <td>54</td>\n",
       "      <td>8</td>\n",
       "      <td>29</td>\n",
       "    </tr>\n",
       "    <tr>\n",
       "      <th>Paul</th>\n",
       "      <td>87</td>\n",
       "      <td>67</td>\n",
       "      <td>100</td>\n",
       "      <td>45</td>\n",
       "      <td>7</td>\n",
       "    </tr>\n",
       "  </tbody>\n",
       "</table>\n",
       "</div>"
      ],
      "text/plain": [
       "        Mon  Tue  Wed  Thu  Fri\n",
       "Steven   34  100   15   23   33\n",
       "Mike     45    9   74   87   12\n",
       "Andy     17   33   54    8   29\n",
       "Paul     87   67  100   45    7"
      ]
     },
     "execution_count": 5,
     "metadata": {},
     "output_type": "execute_result"
    }
   ],
   "source": [
    "sales\n",
    "sales1"
   ]
  },
  {
   "cell_type": "code",
   "execution_count": 6,
   "metadata": {
    "ExecuteTime": {
     "end_time": "2020-08-28T08:20:47.424026Z",
     "start_time": "2020-08-28T08:20:47.317090Z"
    }
   },
   "outputs": [
    {
     "data": {
      "text/html": [
       "<div>\n",
       "<style scoped>\n",
       "    .dataframe tbody tr th:only-of-type {\n",
       "        vertical-align: middle;\n",
       "    }\n",
       "\n",
       "    .dataframe tbody tr th {\n",
       "        vertical-align: top;\n",
       "    }\n",
       "\n",
       "    .dataframe thead th {\n",
       "        text-align: right;\n",
       "    }\n",
       "</style>\n",
       "<table border=\"1\" class=\"dataframe\">\n",
       "  <thead>\n",
       "    <tr style=\"text-align: right;\">\n",
       "      <th></th>\n",
       "      <th>Mon</th>\n",
       "      <th>Tue</th>\n",
       "      <th>Wed</th>\n",
       "      <th>Thu</th>\n",
       "      <th>Fri</th>\n",
       "    </tr>\n",
       "  </thead>\n",
       "  <tbody>\n",
       "    <tr>\n",
       "      <th>Steven</th>\n",
       "      <td>True</td>\n",
       "      <td>False</td>\n",
       "      <td>True</td>\n",
       "      <td>True</td>\n",
       "      <td>True</td>\n",
       "    </tr>\n",
       "    <tr>\n",
       "      <th>Mike</th>\n",
       "      <td>True</td>\n",
       "      <td>True</td>\n",
       "      <td>True</td>\n",
       "      <td>True</td>\n",
       "      <td>True</td>\n",
       "    </tr>\n",
       "    <tr>\n",
       "      <th>Andy</th>\n",
       "      <td>True</td>\n",
       "      <td>True</td>\n",
       "      <td>True</td>\n",
       "      <td>True</td>\n",
       "      <td>True</td>\n",
       "    </tr>\n",
       "    <tr>\n",
       "      <th>Paul</th>\n",
       "      <td>True</td>\n",
       "      <td>True</td>\n",
       "      <td>False</td>\n",
       "      <td>True</td>\n",
       "      <td>True</td>\n",
       "    </tr>\n",
       "  </tbody>\n",
       "</table>\n",
       "</div>"
      ],
      "text/plain": [
       "         Mon    Tue    Wed   Thu   Fri\n",
       "Steven  True  False   True  True  True\n",
       "Mike    True   True   True  True  True\n",
       "Andy    True   True   True  True  True\n",
       "Paul    True   True  False  True  True"
      ]
     },
     "execution_count": 6,
     "metadata": {},
     "output_type": "execute_result"
    }
   ],
   "source": [
    "#Solution1\n",
    "sales==sales1"
   ]
  },
  {
   "cell_type": "code",
   "execution_count": 7,
   "metadata": {
    "ExecuteTime": {
     "end_time": "2020-08-28T08:20:47.547949Z",
     "start_time": "2020-08-28T08:20:47.428022Z"
    }
   },
   "outputs": [
    {
     "data": {
      "text/html": [
       "<div>\n",
       "<style scoped>\n",
       "    .dataframe tbody tr th:only-of-type {\n",
       "        vertical-align: middle;\n",
       "    }\n",
       "\n",
       "    .dataframe tbody tr th {\n",
       "        vertical-align: top;\n",
       "    }\n",
       "\n",
       "    .dataframe thead th {\n",
       "        text-align: right;\n",
       "    }\n",
       "</style>\n",
       "<table border=\"1\" class=\"dataframe\">\n",
       "  <thead>\n",
       "    <tr style=\"text-align: right;\">\n",
       "      <th></th>\n",
       "      <th>Mon</th>\n",
       "      <th>Tue</th>\n",
       "      <th>Wed</th>\n",
       "      <th>Thu</th>\n",
       "      <th>Fri</th>\n",
       "    </tr>\n",
       "  </thead>\n",
       "  <tbody>\n",
       "    <tr>\n",
       "      <th>Steven</th>\n",
       "      <td>NaN</td>\n",
       "      <td>27.0</td>\n",
       "      <td>NaN</td>\n",
       "      <td>NaN</td>\n",
       "      <td>NaN</td>\n",
       "    </tr>\n",
       "    <tr>\n",
       "      <th>Mike</th>\n",
       "      <td>NaN</td>\n",
       "      <td>NaN</td>\n",
       "      <td>NaN</td>\n",
       "      <td>NaN</td>\n",
       "      <td>NaN</td>\n",
       "    </tr>\n",
       "    <tr>\n",
       "      <th>Andy</th>\n",
       "      <td>NaN</td>\n",
       "      <td>NaN</td>\n",
       "      <td>NaN</td>\n",
       "      <td>NaN</td>\n",
       "      <td>NaN</td>\n",
       "    </tr>\n",
       "    <tr>\n",
       "      <th>Paul</th>\n",
       "      <td>NaN</td>\n",
       "      <td>NaN</td>\n",
       "      <td>27.0</td>\n",
       "      <td>NaN</td>\n",
       "      <td>NaN</td>\n",
       "    </tr>\n",
       "  </tbody>\n",
       "</table>\n",
       "</div>"
      ],
      "text/plain": [
       "        Mon   Tue   Wed  Thu  Fri\n",
       "Steven  NaN  27.0   NaN  NaN  NaN\n",
       "Mike    NaN   NaN   NaN  NaN  NaN\n",
       "Andy    NaN   NaN   NaN  NaN  NaN\n",
       "Paul    NaN   NaN  27.0  NaN  NaN"
      ]
     },
     "execution_count": 7,
     "metadata": {},
     "output_type": "execute_result"
    }
   ],
   "source": [
    "#Solution 2\n",
    "sales.where(~(sales==sales1))"
   ]
  },
  {
   "cell_type": "code",
   "execution_count": 8,
   "metadata": {
    "ExecuteTime": {
     "end_time": "2020-08-28T08:20:47.671020Z",
     "start_time": "2020-08-28T08:20:47.551946Z"
    }
   },
   "outputs": [
    {
     "data": {
      "text/html": [
       "<div>\n",
       "<style scoped>\n",
       "    .dataframe tbody tr th:only-of-type {\n",
       "        vertical-align: middle;\n",
       "    }\n",
       "\n",
       "    .dataframe tbody tr th {\n",
       "        vertical-align: top;\n",
       "    }\n",
       "\n",
       "    .dataframe thead th {\n",
       "        text-align: right;\n",
       "    }\n",
       "</style>\n",
       "<table border=\"1\" class=\"dataframe\">\n",
       "  <thead>\n",
       "    <tr style=\"text-align: right;\">\n",
       "      <th></th>\n",
       "      <th>Mon</th>\n",
       "      <th>Tue</th>\n",
       "      <th>Wed</th>\n",
       "      <th>Thu</th>\n",
       "      <th>Fri</th>\n",
       "    </tr>\n",
       "  </thead>\n",
       "  <tbody>\n",
       "    <tr>\n",
       "      <th>Steven</th>\n",
       "      <td>NaN</td>\n",
       "      <td>100.0</td>\n",
       "      <td>NaN</td>\n",
       "      <td>NaN</td>\n",
       "      <td>NaN</td>\n",
       "    </tr>\n",
       "    <tr>\n",
       "      <th>Mike</th>\n",
       "      <td>NaN</td>\n",
       "      <td>NaN</td>\n",
       "      <td>NaN</td>\n",
       "      <td>NaN</td>\n",
       "      <td>NaN</td>\n",
       "    </tr>\n",
       "    <tr>\n",
       "      <th>Andy</th>\n",
       "      <td>NaN</td>\n",
       "      <td>NaN</td>\n",
       "      <td>NaN</td>\n",
       "      <td>NaN</td>\n",
       "      <td>NaN</td>\n",
       "    </tr>\n",
       "    <tr>\n",
       "      <th>Paul</th>\n",
       "      <td>NaN</td>\n",
       "      <td>NaN</td>\n",
       "      <td>100.0</td>\n",
       "      <td>NaN</td>\n",
       "      <td>NaN</td>\n",
       "    </tr>\n",
       "  </tbody>\n",
       "</table>\n",
       "</div>"
      ],
      "text/plain": [
       "        Mon    Tue    Wed  Thu  Fri\n",
       "Steven  NaN  100.0    NaN  NaN  NaN\n",
       "Mike    NaN    NaN    NaN  NaN  NaN\n",
       "Andy    NaN    NaN    NaN  NaN  NaN\n",
       "Paul    NaN    NaN  100.0  NaN  NaN"
      ]
     },
     "execution_count": 8,
     "metadata": {},
     "output_type": "execute_result"
    }
   ],
   "source": [
    "#Solution 3\n",
    "sales1.where(~(sales==sales1))"
   ]
  },
  {
   "cell_type": "code",
   "execution_count": 9,
   "metadata": {
    "ExecuteTime": {
     "end_time": "2020-08-28T08:20:47.826964Z",
     "start_time": "2020-08-28T08:20:47.679017Z"
    }
   },
   "outputs": [
    {
     "data": {
      "text/html": [
       "<div>\n",
       "<style scoped>\n",
       "    .dataframe tbody tr th:only-of-type {\n",
       "        vertical-align: middle;\n",
       "    }\n",
       "\n",
       "    .dataframe tbody tr th {\n",
       "        vertical-align: top;\n",
       "    }\n",
       "\n",
       "    .dataframe thead tr th {\n",
       "        text-align: left;\n",
       "    }\n",
       "</style>\n",
       "<table border=\"1\" class=\"dataframe\">\n",
       "  <thead>\n",
       "    <tr>\n",
       "      <th></th>\n",
       "      <th colspan=\"5\" halign=\"left\">Day1</th>\n",
       "      <th colspan=\"5\" halign=\"left\">Day2</th>\n",
       "    </tr>\n",
       "    <tr>\n",
       "      <th></th>\n",
       "      <th>Mon</th>\n",
       "      <th>Tue</th>\n",
       "      <th>Wed</th>\n",
       "      <th>Thu</th>\n",
       "      <th>Fri</th>\n",
       "      <th>Mon</th>\n",
       "      <th>Tue</th>\n",
       "      <th>Wed</th>\n",
       "      <th>Thu</th>\n",
       "      <th>Fri</th>\n",
       "    </tr>\n",
       "  </thead>\n",
       "  <tbody>\n",
       "    <tr>\n",
       "      <th>Steven</th>\n",
       "      <td>34</td>\n",
       "      <td>27</td>\n",
       "      <td>15</td>\n",
       "      <td>23</td>\n",
       "      <td>33</td>\n",
       "      <td>34</td>\n",
       "      <td>100</td>\n",
       "      <td>15</td>\n",
       "      <td>23</td>\n",
       "      <td>33</td>\n",
       "    </tr>\n",
       "    <tr>\n",
       "      <th>Mike</th>\n",
       "      <td>45</td>\n",
       "      <td>9</td>\n",
       "      <td>74</td>\n",
       "      <td>87</td>\n",
       "      <td>12</td>\n",
       "      <td>45</td>\n",
       "      <td>9</td>\n",
       "      <td>74</td>\n",
       "      <td>87</td>\n",
       "      <td>12</td>\n",
       "    </tr>\n",
       "    <tr>\n",
       "      <th>Andy</th>\n",
       "      <td>17</td>\n",
       "      <td>33</td>\n",
       "      <td>54</td>\n",
       "      <td>8</td>\n",
       "      <td>29</td>\n",
       "      <td>17</td>\n",
       "      <td>33</td>\n",
       "      <td>54</td>\n",
       "      <td>8</td>\n",
       "      <td>29</td>\n",
       "    </tr>\n",
       "    <tr>\n",
       "      <th>Paul</th>\n",
       "      <td>87</td>\n",
       "      <td>67</td>\n",
       "      <td>27</td>\n",
       "      <td>45</td>\n",
       "      <td>7</td>\n",
       "      <td>87</td>\n",
       "      <td>67</td>\n",
       "      <td>100</td>\n",
       "      <td>45</td>\n",
       "      <td>7</td>\n",
       "    </tr>\n",
       "  </tbody>\n",
       "</table>\n",
       "</div>"
      ],
      "text/plain": [
       "       Day1                 Day2                  \n",
       "        Mon Tue Wed Thu Fri  Mon  Tue  Wed Thu Fri\n",
       "Steven   34  27  15  23  33   34  100   15  23  33\n",
       "Mike     45   9  74  87  12   45    9   74  87  12\n",
       "Andy     17  33  54   8  29   17   33   54   8  29\n",
       "Paul     87  67  27  45   7   87   67  100  45   7"
      ]
     },
     "execution_count": 9,
     "metadata": {},
     "output_type": "execute_result"
    }
   ],
   "source": [
    "#Solution 4\n",
    "\n",
    "sales_comp=pd.concat([sales,sales1],keys=['Day1','Day2'],axis=1)\n",
    "sales_comp"
   ]
  },
  {
   "cell_type": "code",
   "execution_count": 10,
   "metadata": {
    "ExecuteTime": {
     "end_time": "2020-08-28T08:20:47.965896Z",
     "start_time": "2020-08-28T08:20:47.832958Z"
    }
   },
   "outputs": [],
   "source": [
    "def highlight_dff(data,color='yellow'):\n",
    "    attr='background-color: {}'.format(color)\n",
    "    other=data.xs('Day1',axis=1)\n",
    "    return pd.DataFrame(np.where(data.ne(other,level=1),attr,''),index=data.index,columns=data.columns)"
   ]
  },
  {
   "cell_type": "code",
   "execution_count": 11,
   "metadata": {
    "ExecuteTime": {
     "end_time": "2020-08-28T08:20:48.631191Z",
     "start_time": "2020-08-28T08:20:47.969886Z"
    }
   },
   "outputs": [
    {
     "data": {
      "text/html": [
       "<style  type=\"text/css\" >\n",
       "    #T_60cb2b7e_e907_11ea_ad67_208984f3b6d4row0_col6 {\n",
       "            background-color:  yellow;\n",
       "        }    #T_60cb2b7e_e907_11ea_ad67_208984f3b6d4row3_col7 {\n",
       "            background-color:  yellow;\n",
       "        }</style><table id=\"T_60cb2b7e_e907_11ea_ad67_208984f3b6d4\" ><thead>    <tr>        <th class=\"blank level0\" ></th>        <th class=\"col_heading level0 col0\" colspan=5>Day1</th>        <th class=\"col_heading level0 col5\" colspan=5>Day2</th>    </tr>    <tr>        <th class=\"blank level1\" ></th>        <th class=\"col_heading level1 col0\" >Mon</th>        <th class=\"col_heading level1 col1\" >Tue</th>        <th class=\"col_heading level1 col2\" >Wed</th>        <th class=\"col_heading level1 col3\" >Thu</th>        <th class=\"col_heading level1 col4\" >Fri</th>        <th class=\"col_heading level1 col5\" >Mon</th>        <th class=\"col_heading level1 col6\" >Tue</th>        <th class=\"col_heading level1 col7\" >Wed</th>        <th class=\"col_heading level1 col8\" >Thu</th>        <th class=\"col_heading level1 col9\" >Fri</th>    </tr></thead><tbody>\n",
       "                <tr>\n",
       "                        <th id=\"T_60cb2b7e_e907_11ea_ad67_208984f3b6d4level0_row0\" class=\"row_heading level0 row0\" >Steven</th>\n",
       "                        <td id=\"T_60cb2b7e_e907_11ea_ad67_208984f3b6d4row0_col0\" class=\"data row0 col0\" >34</td>\n",
       "                        <td id=\"T_60cb2b7e_e907_11ea_ad67_208984f3b6d4row0_col1\" class=\"data row0 col1\" >27</td>\n",
       "                        <td id=\"T_60cb2b7e_e907_11ea_ad67_208984f3b6d4row0_col2\" class=\"data row0 col2\" >15</td>\n",
       "                        <td id=\"T_60cb2b7e_e907_11ea_ad67_208984f3b6d4row0_col3\" class=\"data row0 col3\" >23</td>\n",
       "                        <td id=\"T_60cb2b7e_e907_11ea_ad67_208984f3b6d4row0_col4\" class=\"data row0 col4\" >33</td>\n",
       "                        <td id=\"T_60cb2b7e_e907_11ea_ad67_208984f3b6d4row0_col5\" class=\"data row0 col5\" >34</td>\n",
       "                        <td id=\"T_60cb2b7e_e907_11ea_ad67_208984f3b6d4row0_col6\" class=\"data row0 col6\" >100</td>\n",
       "                        <td id=\"T_60cb2b7e_e907_11ea_ad67_208984f3b6d4row0_col7\" class=\"data row0 col7\" >15</td>\n",
       "                        <td id=\"T_60cb2b7e_e907_11ea_ad67_208984f3b6d4row0_col8\" class=\"data row0 col8\" >23</td>\n",
       "                        <td id=\"T_60cb2b7e_e907_11ea_ad67_208984f3b6d4row0_col9\" class=\"data row0 col9\" >33</td>\n",
       "            </tr>\n",
       "            <tr>\n",
       "                        <th id=\"T_60cb2b7e_e907_11ea_ad67_208984f3b6d4level0_row1\" class=\"row_heading level0 row1\" >Mike</th>\n",
       "                        <td id=\"T_60cb2b7e_e907_11ea_ad67_208984f3b6d4row1_col0\" class=\"data row1 col0\" >45</td>\n",
       "                        <td id=\"T_60cb2b7e_e907_11ea_ad67_208984f3b6d4row1_col1\" class=\"data row1 col1\" >9</td>\n",
       "                        <td id=\"T_60cb2b7e_e907_11ea_ad67_208984f3b6d4row1_col2\" class=\"data row1 col2\" >74</td>\n",
       "                        <td id=\"T_60cb2b7e_e907_11ea_ad67_208984f3b6d4row1_col3\" class=\"data row1 col3\" >87</td>\n",
       "                        <td id=\"T_60cb2b7e_e907_11ea_ad67_208984f3b6d4row1_col4\" class=\"data row1 col4\" >12</td>\n",
       "                        <td id=\"T_60cb2b7e_e907_11ea_ad67_208984f3b6d4row1_col5\" class=\"data row1 col5\" >45</td>\n",
       "                        <td id=\"T_60cb2b7e_e907_11ea_ad67_208984f3b6d4row1_col6\" class=\"data row1 col6\" >9</td>\n",
       "                        <td id=\"T_60cb2b7e_e907_11ea_ad67_208984f3b6d4row1_col7\" class=\"data row1 col7\" >74</td>\n",
       "                        <td id=\"T_60cb2b7e_e907_11ea_ad67_208984f3b6d4row1_col8\" class=\"data row1 col8\" >87</td>\n",
       "                        <td id=\"T_60cb2b7e_e907_11ea_ad67_208984f3b6d4row1_col9\" class=\"data row1 col9\" >12</td>\n",
       "            </tr>\n",
       "            <tr>\n",
       "                        <th id=\"T_60cb2b7e_e907_11ea_ad67_208984f3b6d4level0_row2\" class=\"row_heading level0 row2\" >Andy</th>\n",
       "                        <td id=\"T_60cb2b7e_e907_11ea_ad67_208984f3b6d4row2_col0\" class=\"data row2 col0\" >17</td>\n",
       "                        <td id=\"T_60cb2b7e_e907_11ea_ad67_208984f3b6d4row2_col1\" class=\"data row2 col1\" >33</td>\n",
       "                        <td id=\"T_60cb2b7e_e907_11ea_ad67_208984f3b6d4row2_col2\" class=\"data row2 col2\" >54</td>\n",
       "                        <td id=\"T_60cb2b7e_e907_11ea_ad67_208984f3b6d4row2_col3\" class=\"data row2 col3\" >8</td>\n",
       "                        <td id=\"T_60cb2b7e_e907_11ea_ad67_208984f3b6d4row2_col4\" class=\"data row2 col4\" >29</td>\n",
       "                        <td id=\"T_60cb2b7e_e907_11ea_ad67_208984f3b6d4row2_col5\" class=\"data row2 col5\" >17</td>\n",
       "                        <td id=\"T_60cb2b7e_e907_11ea_ad67_208984f3b6d4row2_col6\" class=\"data row2 col6\" >33</td>\n",
       "                        <td id=\"T_60cb2b7e_e907_11ea_ad67_208984f3b6d4row2_col7\" class=\"data row2 col7\" >54</td>\n",
       "                        <td id=\"T_60cb2b7e_e907_11ea_ad67_208984f3b6d4row2_col8\" class=\"data row2 col8\" >8</td>\n",
       "                        <td id=\"T_60cb2b7e_e907_11ea_ad67_208984f3b6d4row2_col9\" class=\"data row2 col9\" >29</td>\n",
       "            </tr>\n",
       "            <tr>\n",
       "                        <th id=\"T_60cb2b7e_e907_11ea_ad67_208984f3b6d4level0_row3\" class=\"row_heading level0 row3\" >Paul</th>\n",
       "                        <td id=\"T_60cb2b7e_e907_11ea_ad67_208984f3b6d4row3_col0\" class=\"data row3 col0\" >87</td>\n",
       "                        <td id=\"T_60cb2b7e_e907_11ea_ad67_208984f3b6d4row3_col1\" class=\"data row3 col1\" >67</td>\n",
       "                        <td id=\"T_60cb2b7e_e907_11ea_ad67_208984f3b6d4row3_col2\" class=\"data row3 col2\" >27</td>\n",
       "                        <td id=\"T_60cb2b7e_e907_11ea_ad67_208984f3b6d4row3_col3\" class=\"data row3 col3\" >45</td>\n",
       "                        <td id=\"T_60cb2b7e_e907_11ea_ad67_208984f3b6d4row3_col4\" class=\"data row3 col4\" >7</td>\n",
       "                        <td id=\"T_60cb2b7e_e907_11ea_ad67_208984f3b6d4row3_col5\" class=\"data row3 col5\" >87</td>\n",
       "                        <td id=\"T_60cb2b7e_e907_11ea_ad67_208984f3b6d4row3_col6\" class=\"data row3 col6\" >67</td>\n",
       "                        <td id=\"T_60cb2b7e_e907_11ea_ad67_208984f3b6d4row3_col7\" class=\"data row3 col7\" >100</td>\n",
       "                        <td id=\"T_60cb2b7e_e907_11ea_ad67_208984f3b6d4row3_col8\" class=\"data row3 col8\" >45</td>\n",
       "                        <td id=\"T_60cb2b7e_e907_11ea_ad67_208984f3b6d4row3_col9\" class=\"data row3 col9\" >7</td>\n",
       "            </tr>\n",
       "    </tbody></table>"
      ],
      "text/plain": [
       "<pandas.io.formats.style.Styler at 0x134ce947488>"
      ]
     },
     "execution_count": 11,
     "metadata": {},
     "output_type": "execute_result"
    }
   ],
   "source": [
    "sales_comp.style.apply(highlight_dff,axis=None)"
   ]
  },
  {
   "cell_type": "code",
   "execution_count": 12,
   "metadata": {
    "ExecuteTime": {
     "end_time": "2020-08-28T08:20:48.651176Z",
     "start_time": "2020-08-28T08:20:48.638185Z"
    }
   },
   "outputs": [],
   "source": [
    "#Solution 5\n",
    "def find_diff(df1,df2):\n",
    "    assert(df1.columns==df2.columns).all()\n",
    "    if any(df1.dtypes!=df2.dtypes):\n",
    "        df2=df2.astypes(df1.dtypes)\n",
    "    if df1.equals(df2):\n",
    "        return None\n",
    "    else:\n",
    "        diff_data=((df1!=df2) & ~(df1.isnull() & df2.isnull()))\n",
    "        stack=diff_data.stack()\n",
    "        change_stack=stack[stack]\n",
    "        change_stack.index.names=['id','col']\n",
    "        diff_location=np.where(diff_data)\n",
    "        changed_from=df1.values[diff_location]\n",
    "        changed_to=df2.values[diff_location]\n",
    "        return pd.DataFrame({'expected':changed_from,'actual':changed_to},index=change_stack.index)"
   ]
  },
  {
   "cell_type": "code",
   "execution_count": 13,
   "metadata": {
    "ExecuteTime": {
     "end_time": "2020-08-28T08:20:48.834095Z",
     "start_time": "2020-08-28T08:20:48.656174Z"
    }
   },
   "outputs": [
    {
     "data": {
      "text/html": [
       "<div>\n",
       "<style scoped>\n",
       "    .dataframe tbody tr th:only-of-type {\n",
       "        vertical-align: middle;\n",
       "    }\n",
       "\n",
       "    .dataframe tbody tr th {\n",
       "        vertical-align: top;\n",
       "    }\n",
       "\n",
       "    .dataframe thead th {\n",
       "        text-align: right;\n",
       "    }\n",
       "</style>\n",
       "<table border=\"1\" class=\"dataframe\">\n",
       "  <thead>\n",
       "    <tr style=\"text-align: right;\">\n",
       "      <th></th>\n",
       "      <th></th>\n",
       "      <th>expected</th>\n",
       "      <th>actual</th>\n",
       "    </tr>\n",
       "    <tr>\n",
       "      <th>id</th>\n",
       "      <th>col</th>\n",
       "      <th></th>\n",
       "      <th></th>\n",
       "    </tr>\n",
       "  </thead>\n",
       "  <tbody>\n",
       "    <tr>\n",
       "      <th>Steven</th>\n",
       "      <th>Tue</th>\n",
       "      <td>27</td>\n",
       "      <td>100</td>\n",
       "    </tr>\n",
       "    <tr>\n",
       "      <th>Paul</th>\n",
       "      <th>Wed</th>\n",
       "      <td>27</td>\n",
       "      <td>100</td>\n",
       "    </tr>\n",
       "  </tbody>\n",
       "</table>\n",
       "</div>"
      ],
      "text/plain": [
       "            expected  actual\n",
       "id     col                  \n",
       "Steven Tue        27     100\n",
       "Paul   Wed        27     100"
      ]
     },
     "execution_count": 13,
     "metadata": {},
     "output_type": "execute_result"
    }
   ],
   "source": [
    "find_diff(sales,sales1)"
   ]
  }
 ],
 "metadata": {
  "kernelspec": {
   "display_name": "Python 3",
   "language": "python",
   "name": "python3"
  },
  "language_info": {
   "codemirror_mode": {
    "name": "ipython",
    "version": 3
   },
   "file_extension": ".py",
   "mimetype": "text/x-python",
   "name": "python",
   "nbconvert_exporter": "python",
   "pygments_lexer": "ipython3",
   "version": "3.7.6"
  }
 },
 "nbformat": 4,
 "nbformat_minor": 4
}
